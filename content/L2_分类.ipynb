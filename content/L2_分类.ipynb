{
 "cells": [
  {
   "cell_type": "markdown",
   "id": "f14c4442-3fc5-4070-9ef2-bb33d30e6b38",
   "metadata": {},
   "source": [
    "# 评估输入：分类"
   ]
  },
  {
   "cell_type": "markdown",
   "id": "26fd0696-18e6-4029-8738-fecba92851db",
   "metadata": {},
   "source": [
    "## 配置\n",
    "#### 加载 API 密钥和相关 Python 库。\n",
    "在本课程中，我们提供了一些为您加载 OpenAI API 密钥的代码。"
   ]
  },
  {
   "cell_type": "code",
   "execution_count": 2,
   "id": "87f647e2",
   "metadata": {
    "ExecuteTime": {
     "start_time": "2023-06-01T11:59:34.997451Z",
     "end_time": "2023-06-01T11:59:35.003943Z"
    }
   },
   "outputs": [],
   "source": [
    "import os\n",
    "import openai\n",
    "from dotenv import load_dotenv, find_dotenv\n",
    "_ = load_dotenv(find_dotenv()) # read local .env file\n",
    "\n",
    "openai.api_key  = 'API-KEY'"
   ]
  },
  {
   "cell_type": "code",
   "execution_count": 3,
   "id": "101624a2",
   "metadata": {
    "ExecuteTime": {
     "start_time": "2023-06-01T11:59:41.667145Z",
     "end_time": "2023-06-01T11:59:41.671475Z"
    }
   },
   "outputs": [],
   "source": [
    "def get_completion_from_messages(messages, \n",
    "                                 model=\"gpt-3.5-turbo\", \n",
    "                                 temperature=0, \n",
    "                                 max_tokens=500):\n",
    "    response = openai.ChatCompletion.create(\n",
    "        model=model,\n",
    "        messages=messages,\n",
    "        temperature=temperature, \n",
    "        max_tokens=max_tokens,\n",
    "    )\n",
    "    return response.choices[0].message[\"content\"]"
   ]
  },
  {
   "cell_type": "markdown",
   "id": "d3db09d1-6253-4c9e-9ad1-5a6134df3e6c",
   "metadata": {},
   "source": [
    "#### 对客户查询进行分类以处理不同的案例"
   ]
  },
  {
   "cell_type": "code",
   "execution_count": 4,
   "id": "8db30f42",
   "metadata": {
    "ExecuteTime": {
     "start_time": "2023-06-01T12:00:07.228079Z",
     "end_time": "2023-06-01T12:00:11.322243Z"
    }
   },
   "outputs": [
    {
     "name": "stdout",
     "output_type": "stream",
     "text": [
      "{\n",
      "  \"primary\": \"Account Management\",\n",
      "  \"secondary\": \"Close account\"\n",
      "}\n"
     ]
    }
   ],
   "source": [
    "delimiter = \"####\"\n",
    "system_message = f\"\"\"\n",
    "You will be provided with customer service queries. \\\n",
    "The customer service query will be delimited with \\\n",
    "{delimiter} characters.\n",
    "Classify each query into a primary category \\\n",
    "and a secondary category. \n",
    "Provide your output in json format with the \\\n",
    "keys: primary and secondary.\n",
    "\n",
    "Primary categories: Billing, Technical Support, \\\n",
    "Account Management, or General Inquiry.\n",
    "\n",
    "Billing secondary categories:\n",
    "Unsubscribe or upgrade\n",
    "Add a payment method\n",
    "Explanation for charge\n",
    "Dispute a charge\n",
    "\n",
    "Technical Support secondary categories:\n",
    "General troubleshooting\n",
    "Device compatibility\n",
    "Software updates\n",
    "\n",
    "Account Management secondary categories:\n",
    "Password reset\n",
    "Update personal information\n",
    "Close account\n",
    "Account security\n",
    "\n",
    "General Inquiry secondary categories:\n",
    "Product information\n",
    "Pricing\n",
    "Feedback\n",
    "Speak to a human\n",
    "\n",
    "\"\"\"\n",
    "user_message = f\"\"\"\\\n",
    "I want you to delete my profile and all of my user data\"\"\"\n",
    "messages =  [  \n",
    "{'role':'system', \n",
    " 'content': system_message},    \n",
    "{'role':'user', \n",
    " 'content': f\"{delimiter}{user_message}{delimiter}\"},  \n",
    "] \n",
    "response = get_completion_from_messages(messages)\n",
    "print(response)"
   ]
  },
  {
   "cell_type": "code",
   "execution_count": 5,
   "id": "f9a5a790",
   "metadata": {
    "ExecuteTime": {
     "start_time": "2023-06-01T12:00:20.545662Z",
     "end_time": "2023-06-01T12:00:22.477858Z"
    }
   },
   "outputs": [
    {
     "name": "stdout",
     "output_type": "stream",
     "text": [
      "{\n",
      "  \"primary\": \"General Inquiry\",\n",
      "  \"secondary\": \"Product information\"\n",
      "}\n"
     ]
    }
   ],
   "source": [
    "user_message = f\"\"\"\\\n",
    "Tell me more about your flat screen tvs\"\"\"\n",
    "messages =  [  \n",
    "{'role':'system', \n",
    " 'content': system_message},    \n",
    "{'role':'user', \n",
    " 'content': f\"{delimiter}{user_message}{delimiter}\"},  \n",
    "] \n",
    "response = get_completion_from_messages(messages)\n",
    "print(response)"
   ]
  },
  {
   "cell_type": "code",
   "execution_count": null,
   "id": "5cfd2fae",
   "metadata": {},
   "outputs": [],
   "source": []
  }
 ],
 "metadata": {
  "kernelspec": {
   "display_name": "Python 3 (ipykernel)",
   "language": "python",
   "name": "python3"
  },
  "language_info": {
   "codemirror_mode": {
    "name": "ipython",
    "version": 3
   },
   "file_extension": ".py",
   "mimetype": "text/x-python",
   "name": "python",
   "nbconvert_exporter": "python",
   "pygments_lexer": "ipython3",
   "version": "3.10.9"
  }
 },
 "nbformat": 4,
 "nbformat_minor": 5
}
