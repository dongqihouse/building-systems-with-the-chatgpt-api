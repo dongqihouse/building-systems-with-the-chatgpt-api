{
 "cells": [
  {
   "cell_type": "markdown",
   "id": "d0670f1d-a612-4c45-b8e8-9be339e552d1",
   "metadata": {},
   "source": [
    "# L6: 检查输出结果"
   ]
  },
  {
   "cell_type": "markdown",
   "id": "d8adb9f4-f9ed-4c9f-8495-049c16548003",
   "metadata": {},
   "source": [
    "## 配置\n",
    "#### 加载 API 密钥和相关 Python 库。\n",
    "在本课程中，我们提供了一些为您加载 OpenAI API 密钥的代码"
   ]
  },
  {
   "cell_type": "code",
   "execution_count": 1,
   "id": "6af3568d",
   "metadata": {
    "height": 130,
    "ExecuteTime": {
     "start_time": "2023-06-04T16:30:12.635367Z",
     "end_time": "2023-06-04T16:30:12.867654Z"
    }
   },
   "outputs": [],
   "source": [
    "import os\n",
    "import openai\n",
    "from dotenv import load_dotenv, find_dotenv\n",
    "_ = load_dotenv(find_dotenv()) # read local .env file\n",
    "\n",
    "openai.api_key  = 'API_KEY'"
   ]
  },
  {
   "cell_type": "code",
   "execution_count": 2,
   "id": "1a858d53",
   "metadata": {
    "height": 164,
    "ExecuteTime": {
     "start_time": "2023-06-04T16:30:19.566328Z",
     "end_time": "2023-06-04T16:30:19.576329Z"
    }
   },
   "outputs": [],
   "source": [
    "def get_completion_from_messages(messages, model=\"gpt-3.5-turbo\", temperature=0, max_tokens=500):\n",
    "    response = openai.ChatCompletion.create(\n",
    "        model=model,\n",
    "        messages=messages,\n",
    "        temperature=temperature, \n",
    "        max_tokens=max_tokens, \n",
    "    )\n",
    "    return response.choices[0].message[\"content\"]"
   ]
  },
  {
   "cell_type": "markdown",
   "id": "9f7d3db3-2258-48c9-819e-cfd8780416e3",
   "metadata": {},
   "source": [
    "### 检查输出结果是否包含潜在的有害内容。"
   ]
  },
  {
   "cell_type": "code",
   "execution_count": 3,
   "id": "6164c53b",
   "metadata": {
    "height": 300,
    "ExecuteTime": {
     "start_time": "2023-06-04T16:31:32.317900Z",
     "end_time": "2023-06-04T16:31:33.773424Z"
    }
   },
   "outputs": [
    {
     "name": "stdout",
     "output_type": "stream",
     "text": [
      "{\n",
      "  \"categories\": {\n",
      "    \"hate\": false,\n",
      "    \"hate/threatening\": false,\n",
      "    \"self-harm\": false,\n",
      "    \"sexual\": false,\n",
      "    \"sexual/minors\": false,\n",
      "    \"violence\": false,\n",
      "    \"violence/graphic\": false\n",
      "  },\n",
      "  \"category_scores\": {\n",
      "    \"hate\": 1.3900634e-05,\n",
      "    \"hate/threatening\": 2.4370496e-07,\n",
      "    \"self-harm\": 4.5668235e-06,\n",
      "    \"sexual\": 0.00011302941,\n",
      "    \"sexual/minors\": 1.0577807e-06,\n",
      "    \"violence\": 9.768882e-06,\n",
      "    \"violence/graphic\": 2.34361e-06\n",
      "  },\n",
      "  \"flagged\": false\n",
      "}\n"
     ]
    }
   ],
   "source": [
    "final_response_to_customer = f\"\"\"\n",
    "SmartX Pro手机具有6.1英寸的显示屏，128GB的存储空间，12MP的双摄像头和5G网络。\\\n",
    "FotoSnap DSLR相机具有24.2MP的传感器，1080p视频录制能力，3英寸LCD显示屏和可更换镜头。\\\n",
    "我们拥有各种电视产品，包括CineView 4K电视，配备55英寸的显示屏，4K分辨率，HDR和智能电视功能。\\\n",
    "此外，我们还有SoundMax家庭影院音响系统，拥有5.1声道，1000W输出功率，无线低音炮和蓝牙功能。\\\n",
    "您对这些产品或我们提供的其他产品有任何特定的问题吗？\n",
    "\"\"\"\n",
    "response = openai.Moderation.create(\n",
    "    input=final_response_to_customer\n",
    ")\n",
    "moderation_output = response[\"results\"][0]\n",
    "print(moderation_output)"
   ]
  },
  {
   "cell_type": "markdown",
   "id": "3dde612c-383e-444a-96d6-51c4f42dfb51",
   "metadata": {},
   "source": [
    "### 请检查输出是否根据提供的产品信息准确无误。"
   ]
  },
  {
   "cell_type": "code",
   "execution_count": 4,
   "id": "ef6e394f",
   "metadata": {
    "height": 674,
    "ExecuteTime": {
     "start_time": "2023-06-04T16:35:36.002753Z",
     "end_time": "2023-06-04T16:35:37.079754Z"
    }
   },
   "outputs": [
    {
     "name": "stdout",
     "output_type": "stream",
     "text": [
      "Y\n"
     ]
    }
   ],
   "source": [
    "system_message = f\"\"\"\n",
    "您是一个助理，负责评估客户服务代理的回答是否足够回答客户的问题，\\\n",
    "并验证助理从产品信息中引用的所有事实是否正确。\n",
    "产品信息、用户和客户服务代理的消息将用3个反引号（```)分隔。\n",
    "以单个字母作为回复，不带标点符号：\n",
    "Y - 如果输出足够回答问题，并且回复正确使用了产品信息\n",
    "N - 相反情况\n",
    "\n",
    "只输出一个字母。\n",
    "\"\"\"\n",
    "customer_message = f\"\"\"\n",
    "告诉我关于SmartX Pro手机和Fotosnap相机（其中包括DSLR型号）的信息。\\\n",
    "同时也告诉我关于你们的电视的情况。\"\"\"\n",
    "product_information = \"\"\"{ \"name\": \"SmartX ProPhone\", \"category\": \"Smartphones and Accessories\", \"brand\": \"SmartX\", \"model_number\": \"SX-PP10\", \"warranty\": \"1 year\", \"rating\": 4.6, \"features\": [ \"6.1-inch display\", \"128GB storage\", \"12MP dual camera\", \"5G\" ], \"description\": \"A powerful smartphone with advanced camera features.\", \"price\": 899.99 } { \"name\": \"FotoSnap DSLR Camera\", \"category\": \"Cameras and Camcorders\", \"brand\": \"FotoSnap\", \"model_number\": \"FS-DSLR200\", \"warranty\": \"1 year\", \"rating\": 4.7, \"features\": [ \"24.2MP sensor\", \"1080p video\", \"3-inch LCD\", \"Interchangeable lenses\" ], \"description\": \"Capture stunning photos and videos with this versatile DSLR camera.\", \"price\": 599.99 } { \"name\": \"CineView 4K TV\", \"category\": \"Televisions and Home Theater Systems\", \"brand\": \"CineView\", \"model_number\": \"CV-4K55\", \"warranty\": \"2 years\", \"rating\": 4.8, \"features\": [ \"55-inch display\", \"4K resolution\", \"HDR\", \"Smart TV\" ], \"description\": \"A stunning 4K TV with vibrant colors and smart features.\", \"price\": 599.99 } { \"name\": \"SoundMax Home Theater\", \"category\": \"Televisions and Home Theater Systems\", \"brand\": \"SoundMax\", \"model_number\": \"SM-HT100\", \"warranty\": \"1 year\", \"rating\": 4.4, \"features\": [ \"5.1 channel\", \"1000W output\", \"Wireless subwoofer\", \"Bluetooth\" ], \"description\": \"A powerful home theater system for an immersive audio experience.\", \"price\": 399.99 } { \"name\": \"CineView 8K TV\", \"category\": \"Televisions and Home Theater Systems\", \"brand\": \"CineView\", \"model_number\": \"CV-8K65\", \"warranty\": \"2 years\", \"rating\": 4.9, \"features\": [ \"65-inch display\", \"8K resolution\", \"HDR\", \"Smart TV\" ], \"description\": \"Experience the future of television with this stunning 8K TV.\", \"price\": 2999.99 } { \"name\": \"SoundMax Soundbar\", \"category\": \"Televisions and Home Theater Systems\", \"brand\": \"SoundMax\", \"model_number\": \"SM-SB50\", \"warranty\": \"1 year\", \"rating\": 4.3, \"features\": [ \"2.1 channel\", \"300W output\", \"Wireless subwoofer\", \"Bluetooth\" ], \"description\": \"Upgrade your TV's audio with this sleek and powerful soundbar.\", \"price\": 199.99 } { \"name\": \"CineView OLED TV\", \"category\": \"Televisions and Home Theater Systems\", \"brand\": \"CineView\", \"model_number\": \"CV-OLED55\", \"warranty\": \"2 years\", \"rating\": 4.7, \"features\": [ \"55-inch display\", \"4K resolution\", \"HDR\", \"Smart TV\" ], \"description\": \"Experience true blacks and vibrant colors with this OLED TV.\", \"price\": 1499.99 }\"\"\"\n",
    "q_a_pair = f\"\"\"\n",
    "Customer message: ```{customer_message}```\n",
    "Product information: ```{product_information}```\n",
    "Agent response: ```{final_response_to_customer}```\n",
    "\n",
    "回答是否正确地使用了检索到的信息？\n",
    "回答是否充分地回答了问题？\n",
    "\n",
    "回答Y或者N\n",
    "\"\"\"\n",
    "messages = [\n",
    "    {'role': 'system', 'content': system_message},\n",
    "    {'role': 'user', 'content': q_a_pair}\n",
    "]\n",
    "\n",
    "response = get_completion_from_messages(messages, max_tokens=1)\n",
    "print(response)"
   ]
  },
  {
   "cell_type": "code",
   "execution_count": 5,
   "id": "6c33911c",
   "metadata": {
    "height": 334,
    "ExecuteTime": {
     "start_time": "2023-06-04T16:37:04.591490Z",
     "end_time": "2023-06-04T16:37:05.652185Z"
    }
   },
   "outputs": [
    {
     "name": "stdout",
     "output_type": "stream",
     "text": [
      "N\n"
     ]
    }
   ],
   "source": [
    "another_response = \"生活就像一盒巧克力。\"\n",
    "q_a_pair = f\"\"\"\n",
    "Customer message: ```{customer_message}```\n",
    "Product information: ```{product_information}```\n",
    "Agent response: ```{another_response}```\n",
    "\n",
    "回答是否正确地使用了检索到的信息？\n",
    "回答是否充分地回答了问题？\n",
    "\n",
    "回答Y或者N\n",
    "\"\"\"\n",
    "messages = [\n",
    "    {'role': 'system', 'content': system_message},\n",
    "    {'role': 'user', 'content': q_a_pair}\n",
    "]\n",
    "\n",
    "response = get_completion_from_messages(messages)\n",
    "print(response)"
   ]
  },
  {
   "cell_type": "code",
   "execution_count": null,
   "outputs": [],
   "source": [],
   "metadata": {
    "collapsed": false
   }
  }
 ],
 "metadata": {
  "kernelspec": {
   "display_name": "Python 3 (ipykernel)",
   "language": "python",
   "name": "python3"
  },
  "language_info": {
   "codemirror_mode": {
    "name": "ipython",
    "version": 3
   },
   "file_extension": ".py",
   "mimetype": "text/x-python",
   "name": "python",
   "nbconvert_exporter": "python",
   "pygments_lexer": "ipython3",
   "version": "3.9.16"
  }
 },
 "nbformat": 4,
 "nbformat_minor": 5
}
