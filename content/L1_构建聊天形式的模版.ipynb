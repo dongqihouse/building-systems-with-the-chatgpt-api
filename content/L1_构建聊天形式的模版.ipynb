{
 "cells": [
  {
   "cell_type": "code",
   "execution_count": null,
   "id": "b394c5f5",
   "metadata": {
    "height": 30
   },
   "outputs": [],
   "source": [
    "# L1 语言模型, 聊天格式和Tokens"
   ]
  },
  {
   "attachments": {},
   "cell_type": "markdown",
   "id": "e996aca8",
   "metadata": {
    "height": 79
   },
   "source": [
    "## 配置\n",
    "#### 加载API Key和相关的Python库.\n",
    "在本课程中，我们提供了一些加载OpenAI的API Kye的代码示例。"
   ]
  },
  {
   "cell_type": "markdown",
   "source": [
    "> 译者注：\n",
    "> openai: 是openai开源的针对api封装的python库，pip install openai。\n",
    "> tiktoken: 一个针对openai模型的fast tokeniser. https://github.com/openai/tiktoken。\n",
    "> dotenv: 快速构建环境变量的一个库。https://github.com/theskumar/python-dotenv 。     pip install python-dotenv"
   ],
   "metadata": {
    "collapsed": false
   }
  },
  {
   "cell_type": "code",
   "execution_count": 6,
   "id": "19cd4e96",
   "metadata": {
    "height": 147,
    "ExecuteTime": {
     "start_time": "2023-06-01T11:06:26.795353Z",
     "end_time": "2023-06-01T11:06:26.805489Z"
    }
   },
   "outputs": [],
   "source": [
    "import os\n",
    "import openai\n",
    "import tiktoken\n",
    "from dotenv import load_dotenv, find_dotenv\n",
    "_ = load_dotenv(find_dotenv()) # read local .env file\n",
    "\n",
    "openai.api_key  = 'API-Key'"
   ]
  },
  {
   "cell_type": "markdown",
   "source": [
    "#### 辅助方法\n",
    "如果你参加了早期的 \"ChatGPT开发人员提示工程 \"课程，这可能看起来很熟悉。"
   ],
   "metadata": {
    "collapsed": false
   }
  },
  {
   "cell_type": "code",
   "execution_count": 7,
   "id": "1ed96988",
   "metadata": {
    "height": 164,
    "ExecuteTime": {
     "start_time": "2023-06-01T11:06:31.728512Z",
     "end_time": "2023-06-01T11:06:31.742188Z"
    }
   },
   "outputs": [],
   "source": [
    "def get_completion(prompt, model=\"gpt-3.5-turbo\"):\n",
    "    messages = [{\"role\": \"user\", \"content\": prompt}]\n",
    "    response = openai.ChatCompletion.create(\n",
    "        model=model,\n",
    "        messages=messages,\n",
    "        temperature=0,\n",
    "    )\n",
    "    return response.choices[0].message[\"content\"]"
   ]
  },
  {
   "cell_type": "markdown",
   "source": [
    "## 构建提示词，并获取回调"
   ],
   "metadata": {
    "collapsed": false
   }
  },
  {
   "cell_type": "code",
   "execution_count": 9,
   "id": "e1cc57b2",
   "metadata": {
    "height": 45,
    "ExecuteTime": {
     "start_time": "2023-06-01T11:08:43.758300Z",
     "end_time": "2023-06-01T11:08:45.971381Z"
    }
   },
   "outputs": [],
   "source": [
    "response = get_completion(\"What is the capital of France?\")"
   ]
  },
  {
   "cell_type": "code",
   "execution_count": 10,
   "id": "76774108",
   "metadata": {
    "height": 30,
    "ExecuteTime": {
     "start_time": "2023-06-01T11:08:50.024850Z",
     "end_time": "2023-06-01T11:08:50.037307Z"
    }
   },
   "outputs": [
    {
     "name": "stdout",
     "output_type": "stream",
     "text": [
      "The capital of France is Paris.\n"
     ]
    }
   ],
   "source": [
    "print(response)"
   ]
  },
  {
   "cell_type": "code",
   "execution_count": 11,
   "id": "9d0a9b50",
   "metadata": {
    "height": 30,
    "ExecuteTime": {
     "start_time": "2023-06-01T11:08:54.340073Z",
     "end_time": "2023-06-01T11:08:54.350981Z"
    }
   },
   "outputs": [],
   "source": [
    "## Tokens"
   ]
  },
  {
   "cell_type": "code",
   "execution_count": 14,
   "id": "cc2d9e40",
   "metadata": {
    "height": 79,
    "ExecuteTime": {
     "start_time": "2023-06-01T11:12:14.982359Z",
     "end_time": "2023-06-01T11:12:16.503342Z"
    }
   },
   "outputs": [
    {
     "name": "stdout",
     "output_type": "stream",
     "text": [
      "ppilolol\n"
     ]
    }
   ],
   "source": [
    "response = get_completion(\"Take the letters in lollipop \\\n",
    "and reverse them\")\n",
    "print(response)"
   ]
  },
  {
   "cell_type": "code",
   "execution_count": 16,
   "id": "37cab84f",
   "metadata": {
    "height": 47,
    "ExecuteTime": {
     "start_time": "2023-06-01T11:27:02.142612Z",
     "end_time": "2023-06-01T11:27:05.230846Z"
    }
   },
   "outputs": [],
   "source": [
    "response = get_completion(\"\"\"Take the letters in \\\n",
    "l-o-l-l-i-p-o-p and reverse them\"\"\")"
   ]
  },
  {
   "cell_type": "code",
   "execution_count": 18,
   "id": "1577c561",
   "metadata": {
    "height": 30,
    "ExecuteTime": {
     "start_time": "2023-06-01T11:27:24.460656Z",
     "end_time": "2023-06-01T11:27:24.473431Z"
    }
   },
   "outputs": [
    {
     "data": {
      "text/plain": "'p-o-p-i-l-l-o-l'"
     },
     "execution_count": 18,
     "metadata": {},
     "output_type": "execute_result"
    }
   ],
   "source": [
    "response"
   ]
  },
  {
   "cell_type": "markdown",
   "source": [
    "## 聊天格式的辅助函数\n",
    "这是我们将在本课程中使用的帮助程序函数"
   ],
   "metadata": {
    "collapsed": false
   }
  },
  {
   "cell_type": "code",
   "execution_count": 19,
   "id": "8f89efad",
   "metadata": {
    "height": 215,
    "ExecuteTime": {
     "start_time": "2023-06-01T11:29:40.595035Z",
     "end_time": "2023-06-01T11:29:40.605058Z"
    }
   },
   "outputs": [],
   "source": [
    "def get_completion_from_messages(messages, \n",
    "                                 model=\"gpt-3.5-turbo\", \n",
    "                                 temperature=0, \n",
    "                                 max_tokens=500):\n",
    "    response = openai.ChatCompletion.create(\n",
    "        model=model,\n",
    "        messages=messages,\n",
    "        temperature=temperature, # this is the degree of randomness of the model's output\n",
    "        max_tokens=max_tokens, # the maximum number of tokens the model can ouptut \n",
    "    )\n",
    "    return response.choices[0].message[\"content\"]"
   ]
  },
  {
   "cell_type": "code",
   "execution_count": 20,
   "id": "b28c3424",
   "metadata": {
    "height": 198,
    "ExecuteTime": {
     "start_time": "2023-06-01T11:30:23.664123Z",
     "end_time": "2023-06-01T11:30:27.575987Z"
    }
   },
   "outputs": [
    {
     "name": "stdout",
     "output_type": "stream",
     "text": [
      "Oh happy carrot, oh so bright,\n",
      "Your cheerful color is such a sight,\n",
      "You make us smile with your sweet crunch,\n",
      "And in our salads, you're always a hunch!\n"
     ]
    }
   ],
   "source": [
    "messages =  [  \n",
    "{'role':'system', \n",
    " 'content':\"\"\"You are an assistant who\\\n",
    " responds in the style of Dr Seuss.\"\"\"},    \n",
    "{'role':'user', \n",
    " 'content':\"\"\"write me a very short poem\\\n",
    " about a happy carrot\"\"\"},  \n",
    "] \n",
    "response = get_completion_from_messages(messages, temperature=1)\n",
    "print(response)"
   ]
  },
  {
   "cell_type": "code",
   "execution_count": 21,
   "id": "56c6978d",
   "metadata": {
    "height": 198,
    "ExecuteTime": {
     "start_time": "2023-06-01T11:30:54.501153Z",
     "end_time": "2023-06-01T11:30:59.742487Z"
    }
   },
   "outputs": [
    {
     "name": "stdout",
     "output_type": "stream",
     "text": [
      "Once upon a time, there was a happy carrot named Charlie who grew in a sunny garden with his vegetable friends, and he took great pride in providing nutrients to the humans who consumed him – until he was finally harvested for a giant salad, but even then, he was content knowing that he fulfilled his purpose of nourishing others.\n"
     ]
    }
   ],
   "source": [
    "# length\n",
    "messages =  [  \n",
    "{'role':'system',\n",
    " 'content':'All your responses must be \\\n",
    "one sentence long.'},    \n",
    "{'role':'user',\n",
    " 'content':'write me a story about a happy carrot'},  \n",
    "] \n",
    "response = get_completion_from_messages(messages, temperature =1)\n",
    "print(response)"
   ]
  },
  {
   "cell_type": "code",
   "execution_count": 22,
   "id": "14fd6331",
   "metadata": {
    "height": 232,
    "ExecuteTime": {
     "start_time": "2023-06-01T11:31:05.830768Z",
     "end_time": "2023-06-01T11:31:09.762868Z"
    }
   },
   "outputs": [
    {
     "name": "stdout",
     "output_type": "stream",
     "text": [
      "Once there was a carrot so happy and bright, it danced in the field from morning till night, with its green leafy top and orangey root, it sang ‘Oh what a joy to be a happy carrot!’\n"
     ]
    }
   ],
   "source": [
    "# combined\n",
    "messages =  [  \n",
    "{'role':'system',\n",
    " 'content':\"\"\"You are an assistant who \\\n",
    "responds in the style of Dr Seuss. \\\n",
    "All your responses must be one sentence long.\"\"\"},    \n",
    "{'role':'user',\n",
    " 'content':\"\"\"write me a story about a happy carrot\"\"\"},\n",
    "] \n",
    "response = get_completion_from_messages(messages, \n",
    "                                        temperature =1)\n",
    "print(response)"
   ]
  },
  {
   "cell_type": "code",
   "execution_count": 23,
   "id": "89a70c79",
   "metadata": {
    "height": 385,
    "ExecuteTime": {
     "start_time": "2023-06-01T11:31:12.705869Z",
     "end_time": "2023-06-01T11:31:12.714991Z"
    }
   },
   "outputs": [],
   "source": [
    "def get_completion_and_token_count(messages, \n",
    "                                   model=\"gpt-3.5-turbo\", \n",
    "                                   temperature=0, \n",
    "                                   max_tokens=500):\n",
    "    \n",
    "    response = openai.ChatCompletion.create(\n",
    "        model=model,\n",
    "        messages=messages,\n",
    "        temperature=temperature, \n",
    "        max_tokens=max_tokens,\n",
    "    )\n",
    "    \n",
    "    content = response.choices[0].message[\"content\"]\n",
    "    \n",
    "    token_dict = {\n",
    "'prompt_tokens':response['usage']['prompt_tokens'],\n",
    "'completion_tokens':response['usage']['completion_tokens'],\n",
    "'total_tokens':response['usage']['total_tokens'],\n",
    "    }\n",
    "\n",
    "    return content, token_dict"
   ]
  },
  {
   "cell_type": "code",
   "execution_count": 24,
   "id": "a64cf3c6",
   "metadata": {
    "height": 181,
    "ExecuteTime": {
     "start_time": "2023-06-01T11:32:00.040251Z",
     "end_time": "2023-06-01T11:32:04.136908Z"
    }
   },
   "outputs": [],
   "source": [
    "messages = [\n",
    "{'role':'system', \n",
    " 'content':\"\"\"You are an assistant who responds\\\n",
    " in the style of Dr Seuss.\"\"\"},    \n",
    "{'role':'user',\n",
    " 'content':\"\"\"write me a very short poem \\ \n",
    " about a happy carrot\"\"\"},  \n",
    "] \n",
    "response, token_dict = get_completion_and_token_count(messages)"
   ]
  },
  {
   "cell_type": "code",
   "execution_count": 25,
   "id": "cfd8fbd4",
   "metadata": {
    "height": 30,
    "ExecuteTime": {
     "start_time": "2023-06-01T11:32:06.875680Z",
     "end_time": "2023-06-01T11:32:06.882973Z"
    }
   },
   "outputs": [
    {
     "name": "stdout",
     "output_type": "stream",
     "text": [
      "Oh, the happy carrot, so bright and so bold,\n",
      "With a smile on its face, and a story untold.\n",
      "It grew in the garden, with sun and with rain,\n",
      "And now it's so happy, it can't help but exclaim!\n"
     ]
    }
   ],
   "source": [
    "print(response)"
   ]
  },
  {
   "cell_type": "code",
   "execution_count": 26,
   "id": "352ad320",
   "metadata": {
    "height": 30,
    "ExecuteTime": {
     "start_time": "2023-06-01T11:32:09.722431Z",
     "end_time": "2023-06-01T11:32:09.731725Z"
    }
   },
   "outputs": [
    {
     "name": "stdout",
     "output_type": "stream",
     "text": [
      "{'prompt_tokens': 39, 'completion_tokens': 52, 'total_tokens': 91}\n"
     ]
    }
   ],
   "source": [
    "print(token_dict)"
   ]
  },
  {
   "cell_type": "markdown",
   "source": [
    "#### 关于在这个课堂之外使用OpenAI API的一些解释\n",
    "\n",
    "安装 OpenAI Python 库:\n",
    "```\n",
    "!pip install openai\n",
    "```\n",
    "\n",
    "该库需要使用您帐户的密钥进行配置，该密钥可在 [website](https://platform.openai.com/account/api-keys)中获取.\n",
    "\n",
    "在运行上层代码之前，可以设置局部环境变量：\n",
    " ```\n",
    " !export OPENAI_API_KEY='sk-...'\n",
    " ```\n",
    "\n",
    "或者直接设置`openai.api_key`这个属性\n",
    "\n",
    "```\n",
    "import openai\n",
    "openai.api_key = \"sk-...\"\n",
    "```"
   ],
   "metadata": {
    "collapsed": false
   }
  },
  {
   "cell_type": "markdown",
   "source": [
    "#### 关于反斜杠的一些解释\n",
    "- 在课程中，我们使用反斜杠“\\”使文本适合屏幕，而无需插入换行符“\\n”。 - 无论您是否插入换行符，GPT-3 都不会真正受到影响。 但是，在一般情况下使用 LLM 时，您可能会考虑提示中的换行符是否会影响模型的性能。\n",
    "- 无论您是否插入换行符，GPT-3 都不会真正受到影响。 但是，在一般情况下使用 LLM 时，您可能会考虑提示中的换行符是否会影响模型的性能。"
   ],
   "metadata": {
    "collapsed": false
   }
  },
  {
   "cell_type": "code",
   "execution_count": null,
   "outputs": [],
   "source": [],
   "metadata": {
    "collapsed": false
   }
  }
 ],
 "metadata": {
  "kernelspec": {
   "display_name": "Python 3 (ipykernel)",
   "language": "python",
   "name": "python3"
  },
  "language_info": {
   "codemirror_mode": {
    "name": "ipython",
    "version": 3
   },
   "file_extension": ".py",
   "mimetype": "text/x-python",
   "name": "python",
   "nbconvert_exporter": "python",
   "pygments_lexer": "ipython3",
   "version": "3.10.10"
  }
 },
 "nbformat": 4,
 "nbformat_minor": 5
}
