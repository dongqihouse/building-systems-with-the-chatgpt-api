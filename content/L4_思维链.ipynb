{
 "cells": [
  {
   "cell_type": "markdown",
   "id": "0e7531d5-0c22-49ad-9d37-8b08eec7d4e0",
   "metadata": {},
   "source": [
    "# L4: 过程输入： 思考链推理"
   ]
  },
  {
   "cell_type": "markdown",
   "id": "e613f6af-ce1c-49ea-ae99-0d2e3fa3fae1",
   "metadata": {},
   "source": [
    "## 配置\n",
    "#### 加载 API 密钥和相关 Python 库。\n",
    "在本课程中，我们提供了一些为您加载 OpenAI API 密钥的代码"
   ]
  },
  {
   "cell_type": "code",
   "execution_count": 28,
   "id": "0df1c9e8",
   "metadata": {
    "ExecuteTime": {
     "start_time": "2023-06-01T22:12:59.465001Z",
     "end_time": "2023-06-01T22:12:59.469360Z"
    }
   },
   "outputs": [],
   "source": [
    "import os\n",
    "import openai\n",
    "import sys\n",
    "from dotenv import load_dotenv, find_dotenv\n",
    "_ = load_dotenv(find_dotenv())\n",
    "\n",
    "openai.api_key = 'API-KEY'"
   ]
  },
  {
   "cell_type": "code",
   "execution_count": 29,
   "id": "b98a05b6",
   "metadata": {
    "ExecuteTime": {
     "start_time": "2023-06-01T22:13:00.136436Z",
     "end_time": "2023-06-01T22:13:00.147369Z"
    }
   },
   "outputs": [],
   "source": [
    "def get_completion_from_messages(messages, \n",
    "                                 model=\"gpt-3.5-turbo\", \n",
    "                                 temperature=0, max_tokens=500):\n",
    "    response = openai.ChatCompletion.create(\n",
    "        model=model,\n",
    "        messages=messages,\n",
    "        temperature=temperature, \n",
    "        max_tokens=max_tokens, \n",
    "    )\n",
    "    return response.choices[0].message[\"content\"]"
   ]
  },
  {
   "cell_type": "markdown",
   "id": "119d273f-df72-47e2-a9a6-a8994d742aec",
   "metadata": {},
   "source": [
    "## 思维链提示"
   ]
  },
  {
   "cell_type": "code",
   "execution_count": 30,
   "id": "e0e66beb-8fb5-4c7b-afa7-13d20ded1d49",
   "metadata": {
    "ExecuteTime": {
     "start_time": "2023-06-01T22:13:01.469453Z",
     "end_time": "2023-06-01T22:13:01.475220Z"
    }
   },
   "outputs": [],
   "source": [
    "delimiter = \"####\"\n",
    "system_message = f\"\"\"\n",
    "按照这些步骤来回答客户的询问。 \\\n",
    "客户的查询将以四个标签为界、 即{delimiter}。\n",
    "\n",
    "第1步：{delimiter}。首先决定用户是否在问一 \\\n",
    "个或多个具体产品的问题。产品名称不算数。\n",
    "\n",
    "第2步：{delimiter}如果用户询问的是具体的产品，\\\n",
    "请识别该产品是否在以下列表中。\n",
    "所有可用的产品：\n",
    "1. Product: TechPro Ultrabook\n",
    "   Category: Computers and Laptops\n",
    "   Brand: TechPro\n",
    "   Model Number: TP-UB100\n",
    "   Warranty: 1 year\n",
    "   Rating: 4.5\n",
    "   Features: 13.3-inch display, 8GB RAM, 256GB SSD, Intel Core i5 processor\n",
    "   Description: A sleek and lightweight ultrabook for everyday use.\n",
    "   Price: $799.99\n",
    "\n",
    "2. Product: BlueWave Gaming Laptop\n",
    "   Category: Computers and Laptops\n",
    "   Brand: BlueWave\n",
    "   Model Number: BW-GL200\n",
    "   Warranty: 2 years\n",
    "   Rating: 4.7\n",
    "   Features: 15.6-inch display, 16GB RAM, 512GB SSD, NVIDIA GeForce RTX 3060\n",
    "   Description: A high-performance gaming laptop for an immersive experience.\n",
    "   Price: $1199.99\n",
    "\n",
    "3. Product: PowerLite Convertible\n",
    "   Category: Computers and Laptops\n",
    "   Brand: PowerLite\n",
    "   Model Number: PL-CV300\n",
    "   Warranty: 1 year\n",
    "   Rating: 4.3\n",
    "   Features: 14-inch touchscreen, 8GB RAM, 256GB SSD, 360-degree hinge\n",
    "   Description: A versatile convertible laptop with a responsive touchscreen.\n",
    "   Price: $699.99\n",
    "\n",
    "4. Product: TechPro Desktop\n",
    "   Category: Computers and Laptops\n",
    "   Brand: TechPro\n",
    "   Model Number: TP-DT500\n",
    "   Warranty: 1 year\n",
    "   Rating: 4.4\n",
    "   Features: Intel Core i7 processor, 16GB RAM, 1TB HDD, NVIDIA GeForce GTX 1660\n",
    "   Description: A powerful desktop computer for work and play.\n",
    "   Price: $999.99\n",
    "\n",
    "5. Product: BlueWave Chromebook\n",
    "   Category: Computers and Laptops\n",
    "   Brand: BlueWave\n",
    "   Model Number: BW-CB100\n",
    "   Warranty: 1 year\n",
    "   Rating: 4.1\n",
    "   Features: 11.6-inch display, 4GB RAM, 32GB eMMC, Chrome OS\n",
    "   Description: A compact and affordable Chromebook for everyday tasks.\n",
    "   Price: $249.99\n",
    "\n",
    "第3步：{delimiter}如果信息中包含上述列表中的产品，请列出用户在信息中的任何假设，\\\n",
    "例如，笔记本电脑X比笔记本电脑Y大，或者笔记本电脑Z有2年的保修期。\n",
    "\n",
    "第四步：{delimiter}： 如果用户做出了任何假设，\\\n",
    "请根据你的产品信息弄清楚该假设是否真实。\n",
    "\n",
    "第五步：{delimiter}： 首先，礼貌地纠正顾客不正确的假设（如果适用）。\\\n",
    "只提及或参考5种可用产品清单中的产品，因为这是该店\\\n",
    "唯一出售的5种产品。用友好的语气回答顾客。\n",
    "\n",
    "使用一下格式:\n",
    "第一步:{delimiter} <步骤 1 推理>\n",
    "第二步:{delimiter} <步骤 2 推理>\n",
    "第三步:{delimiter} <步骤 3 推理>\n",
    "第四步:{delimiter} <步骤 4 推理>\n",
    "回复用户:{delimiter} <对客户的回应>\n",
    "\n",
    "请确保在每个步骤之间使用{delimiter}作为分隔符。\n",
    "\"\"\""
   ]
  },
  {
   "cell_type": "code",
   "execution_count": 31,
   "id": "6be1ea0a-a816-4694-8a79-77d985f2e274",
   "metadata": {
    "ExecuteTime": {
     "start_time": "2023-06-01T22:13:02.170893Z",
     "end_time": "2023-06-01T22:13:15.585937Z"
    }
   },
   "outputs": [
    {
     "name": "stdout",
     "output_type": "stream",
     "text": [
      "#### 步骤 1：确定用户是否在问一个或多个具体产品的问题。\n",
      "这个问题是关于两个具体的产品：BlueWave Chromebook和TechPro Desktop。\n",
      "\n",
      "#### 步骤 2：确定产品是否在产品列表中。\n",
      "这两个产品都在产品列表中。\n",
      "\n",
      "#### 步骤 3：列出用户在信息中的任何假设。\n",
      "用户没有提到任何关于这两个产品的假设。\n",
      "\n",
      "#### 步骤 4：确定假设是否真实。\n",
      "没有假设需要验证。\n",
      "\n",
      "#### 回复用户：\n",
      "BlueWave Chromebook的价格是$249.99，而TechPro Desktop的价格是$999.99。因此，TechPro Desktop比BlueWave Chromebook贵$750。\n"
     ]
    }
   ],
   "source": [
    "user_message = f\"\"\"\n",
    "BlueWave Chromebook 比 TechPro Desktop贵多少？\n",
    "\"\"\"\n",
    "\n",
    "messages =  [  \n",
    "{'role':'system', \n",
    " 'content': system_message},    \n",
    "{'role':'user', \n",
    " 'content': f\"{delimiter}{user_message}{delimiter}\"},  \n",
    "] \n",
    "\n",
    "response = get_completion_from_messages(messages)\n",
    "print(response)"
   ]
  },
  {
   "cell_type": "code",
   "execution_count": 32,
   "id": "f51afe6d",
   "metadata": {
    "ExecuteTime": {
     "start_time": "2023-06-01T22:14:41.372840Z",
     "end_time": "2023-06-01T22:14:56.344934Z"
    }
   },
   "outputs": [
    {
     "name": "stdout",
     "output_type": "stream",
     "text": [
      "#### 步骤 1：推理\n",
      "客户询问是否销售电视，这是一个具体的产品问题。\n",
      "\n",
      "#### 步骤 2：推理\n",
      "我们的产品清单中没有电视，因此我们不销售电视。\n",
      "\n",
      "#### 步骤 3：推理\n",
      "无需列出任何假设，因为客户没有提到任何特定的电视型号或品牌。\n",
      "\n",
      "#### 步骤 4：推理\n",
      "无需验证任何假设，因为客户没有提到任何特定的电视型号或品牌。\n",
      "\n",
      "回复用户：#### 很抱歉，我们不销售电视。我们的产品清单中只有五种产品，分别是TechPro Ultrabook、BlueWave Gaming Laptop、PowerLite Convertible、TechPro Desktop和BlueWave Chromebook。\n"
     ]
    }
   ],
   "source": [
    "user_message = f\"\"\"\n",
    "你卖电视么\"\"\"\n",
    "messages =  [  \n",
    "{'role':'system', \n",
    " 'content': system_message},    \n",
    "{'role':'user', \n",
    " 'content': f\"{delimiter}{user_message}{delimiter}\"},  \n",
    "]\n",
    "try:\n",
    "    response = get_completion_from_messages(messages)\n",
    "    print(response)\n",
    "except Exception as e:\n",
    "    print(e)"
   ]
  },
  {
   "cell_type": "markdown",
   "id": "a552a4f6-5e65-4d85-9579-5263f720aa10",
   "metadata": {},
   "source": [
    "## 内心独白\n",
    "- 由于我们要求语言模型使用分隔符分隔其推理步骤，我们可以将思维链的推理过程隐藏起来，不让用户看到最终输出。"
   ]
  },
  {
   "cell_type": "code",
   "execution_count": 33,
   "id": "2a825237",
   "metadata": {
    "ExecuteTime": {
     "start_time": "2023-06-01T22:16:59.646569Z",
     "end_time": "2023-06-01T22:16:59.663285Z"
    }
   },
   "outputs": [
    {
     "name": "stdout",
     "output_type": "stream",
     "text": [
      "很抱歉，我们不销售电视。我们的产品清单中只有五种产品，分别是TechPro Ultrabook、BlueWave Gaming Laptop、PowerLite Convertible、TechPro Desktop和BlueWave Chromebook。\n"
     ]
    }
   ],
   "source": [
    "try:\n",
    "    final_response = response.split(delimiter)[-1].strip()\n",
    "except Exception as e:\n",
    "    final_response = \"Sorry, I'm having trouble right now, please try asking another question.\"\n",
    "    \n",
    "print(final_response)"
   ]
  },
  {
   "cell_type": "code",
   "execution_count": null,
   "outputs": [],
   "source": [],
   "metadata": {
    "collapsed": false
   }
  }
 ],
 "metadata": {
  "kernelspec": {
   "display_name": "Python 3 (ipykernel)",
   "language": "python",
   "name": "python3"
  },
  "language_info": {
   "codemirror_mode": {
    "name": "ipython",
    "version": 3
   },
   "file_extension": ".py",
   "mimetype": "text/x-python",
   "name": "python",
   "nbconvert_exporter": "python",
   "pygments_lexer": "ipython3",
   "version": "3.10.9"
  }
 },
 "nbformat": 4,
 "nbformat_minor": 5
}
